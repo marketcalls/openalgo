{
 "cells": [
  {
   "cell_type": "code",
   "execution_count": 1,
   "metadata": {},
   "outputs": [],
   "source": [
    "from openalgo import api\n",
    "\n",
    "Api_key =\"e63a38807f01fb12d5e71d614f4b236be789f94306d631426686c4cd1a4b8bc7\"\n",
    "hosts =\"http://127.0.0.1:5000\"\n",
    "\n",
    "# Initialize the API client\n",
    "client = api(api_key=Api_key, host=hosts)"
   ]
  },
  {
   "cell_type": "code",
   "execution_count": 3,
   "metadata": {},
   "outputs": [
    {
     "name": "stdout",
     "output_type": "stream",
     "text": [
      "{'orderid': '25060400252957', 'status': 'success'}\n"
     ]
    }
   ],
   "source": [
    "response = client.placeorder(\n",
    "    strategy=\"Python\",\n",
    "    symbol=\"NHPC\",\n",
    "    action=\"BUY\",\n",
    "    exchange=\"NSE\",\n",
    "    price_type=\"MARKET\",\n",
    "    product=\"MIS\",\n",
    "    quantity=1\n",
    ")\n",
    "print(response)"
   ]
  },
  {
   "cell_type": "code",
   "execution_count": 3,
   "metadata": {},
   "outputs": [
    {
     "data": {
      "text/html": [
       "<div>\n",
       "<style scoped>\n",
       "    .dataframe tbody tr th:only-of-type {\n",
       "        vertical-align: middle;\n",
       "    }\n",
       "\n",
       "    .dataframe tbody tr th {\n",
       "        vertical-align: top;\n",
       "    }\n",
       "\n",
       "    .dataframe thead th {\n",
       "        text-align: right;\n",
       "    }\n",
       "</style>\n",
       "<table border=\"1\" class=\"dataframe\">\n",
       "  <thead>\n",
       "    <tr style=\"text-align: right;\">\n",
       "      <th></th>\n",
       "      <th>close</th>\n",
       "      <th>high</th>\n",
       "      <th>low</th>\n",
       "      <th>open</th>\n",
       "      <th>volume</th>\n",
       "    </tr>\n",
       "    <tr>\n",
       "      <th>timestamp</th>\n",
       "      <th></th>\n",
       "      <th></th>\n",
       "      <th></th>\n",
       "      <th></th>\n",
       "      <th></th>\n",
       "    </tr>\n",
       "  </thead>\n",
       "  <tbody>\n",
       "    <tr>\n",
       "      <th>2025-01-01 09:15:00+05:30</th>\n",
       "      <td>795.25</td>\n",
       "      <td>798.00</td>\n",
       "      <td>792.50</td>\n",
       "      <td>795.55</td>\n",
       "      <td>190321</td>\n",
       "    </tr>\n",
       "    <tr>\n",
       "      <th>2025-01-01 09:20:00+05:30</th>\n",
       "      <td>794.75</td>\n",
       "      <td>795.60</td>\n",
       "      <td>793.15</td>\n",
       "      <td>795.10</td>\n",
       "      <td>109048</td>\n",
       "    </tr>\n",
       "    <tr>\n",
       "      <th>2025-01-01 09:25:00+05:30</th>\n",
       "      <td>795.45</td>\n",
       "      <td>796.00</td>\n",
       "      <td>794.20</td>\n",
       "      <td>794.60</td>\n",
       "      <td>55949</td>\n",
       "    </tr>\n",
       "    <tr>\n",
       "      <th>2025-01-01 09:30:00+05:30</th>\n",
       "      <td>793.40</td>\n",
       "      <td>796.00</td>\n",
       "      <td>793.00</td>\n",
       "      <td>795.45</td>\n",
       "      <td>85310</td>\n",
       "    </tr>\n",
       "    <tr>\n",
       "      <th>2025-01-01 09:35:00+05:30</th>\n",
       "      <td>793.80</td>\n",
       "      <td>793.95</td>\n",
       "      <td>793.15</td>\n",
       "      <td>793.50</td>\n",
       "      <td>36133</td>\n",
       "    </tr>\n",
       "    <tr>\n",
       "      <th>...</th>\n",
       "      <td>...</td>\n",
       "      <td>...</td>\n",
       "      <td>...</td>\n",
       "      <td>...</td>\n",
       "      <td>...</td>\n",
       "    </tr>\n",
       "    <tr>\n",
       "      <th>2025-01-28 15:05:00+05:30</th>\n",
       "      <td>750.00</td>\n",
       "      <td>750.30</td>\n",
       "      <td>749.00</td>\n",
       "      <td>749.40</td>\n",
       "      <td>257450</td>\n",
       "    </tr>\n",
       "    <tr>\n",
       "      <th>2025-01-28 15:10:00+05:30</th>\n",
       "      <td>752.20</td>\n",
       "      <td>752.50</td>\n",
       "      <td>749.00</td>\n",
       "      <td>749.90</td>\n",
       "      <td>217656</td>\n",
       "    </tr>\n",
       "    <tr>\n",
       "      <th>2025-01-28 15:15:00+05:30</th>\n",
       "      <td>754.80</td>\n",
       "      <td>754.95</td>\n",
       "      <td>752.00</td>\n",
       "      <td>752.20</td>\n",
       "      <td>427234</td>\n",
       "    </tr>\n",
       "    <tr>\n",
       "      <th>2025-01-28 15:20:00+05:30</th>\n",
       "      <td>753.95</td>\n",
       "      <td>754.85</td>\n",
       "      <td>753.50</td>\n",
       "      <td>754.75</td>\n",
       "      <td>495028</td>\n",
       "    </tr>\n",
       "    <tr>\n",
       "      <th>2025-01-28 15:25:00+05:30</th>\n",
       "      <td>752.15</td>\n",
       "      <td>754.15</td>\n",
       "      <td>752.00</td>\n",
       "      <td>753.70</td>\n",
       "      <td>215650</td>\n",
       "    </tr>\n",
       "  </tbody>\n",
       "</table>\n",
       "<p>1500 rows × 5 columns</p>\n",
       "</div>"
      ],
      "text/plain": [
       "                            close    high     low    open  volume\n",
       "timestamp                                                        \n",
       "2025-01-01 09:15:00+05:30  795.25  798.00  792.50  795.55  190321\n",
       "2025-01-01 09:20:00+05:30  794.75  795.60  793.15  795.10  109048\n",
       "2025-01-01 09:25:00+05:30  795.45  796.00  794.20  794.60   55949\n",
       "2025-01-01 09:30:00+05:30  793.40  796.00  793.00  795.45   85310\n",
       "2025-01-01 09:35:00+05:30  793.80  793.95  793.15  793.50   36133\n",
       "...                           ...     ...     ...     ...     ...\n",
       "2025-01-28 15:05:00+05:30  750.00  750.30  749.00  749.40  257450\n",
       "2025-01-28 15:10:00+05:30  752.20  752.50  749.00  749.90  217656\n",
       "2025-01-28 15:15:00+05:30  754.80  754.95  752.00  752.20  427234\n",
       "2025-01-28 15:20:00+05:30  753.95  754.85  753.50  754.75  495028\n",
       "2025-01-28 15:25:00+05:30  752.15  754.15  752.00  753.70  215650\n",
       "\n",
       "[1500 rows x 5 columns]"
      ]
     },
     "execution_count": 3,
     "metadata": {},
     "output_type": "execute_result"
    }
   ],
   "source": [
    "\n",
    "# Fetch historical data for SBIN\n",
    "df = client.history(\n",
    "    symbol=\"SBIN\",\n",
    "    exchange=\"NSE\",\n",
    "    interval=\"5m\",\n",
    "    start_date=\"2025-01-01\",\n",
    "    end_date=\"2025-01-28\"\n",
    ")\n",
    "\n",
    "df"
   ]
  },
  {
   "cell_type": "code",
   "execution_count": 4,
   "metadata": {},
   "outputs": [
    {
     "data": {
      "text/plain": [
       "{'data': {'orders': [],\n",
       "  'statistics': {'total_buy_orders': 0.0,\n",
       "   'total_completed_orders': 0.0,\n",
       "   'total_open_orders': 0.0,\n",
       "   'total_rejected_orders': 0.0,\n",
       "   'total_sell_orders': 0.0}},\n",
       " 'status': 'success'}"
      ]
     },
     "execution_count": 4,
     "metadata": {},
     "output_type": "execute_result"
    }
   ],
   "source": [
    "df = client.orderbook()\n",
    "\n",
    "df"
   ]
  },
  {
   "cell_type": "code",
   "execution_count": null,
   "metadata": {},
   "outputs": [],
   "source": []
  }
 ],
 "metadata": {
  "kernelspec": {
   "display_name": "Python 3",
   "language": "python",
   "name": "python3"
  },
  "language_info": {
   "codemirror_mode": {
    "name": "ipython",
    "version": 3
   },
   "file_extension": ".py",
   "mimetype": "text/x-python",
   "name": "python",
   "nbconvert_exporter": "python",
   "pygments_lexer": "ipython3",
   "version": "3.12.1"
  }
 },
 "nbformat": 4,
 "nbformat_minor": 2
}
